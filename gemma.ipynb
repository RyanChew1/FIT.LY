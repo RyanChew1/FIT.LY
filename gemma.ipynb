{
 "cells": [
  {
   "cell_type": "code",
   "execution_count": 1,
   "metadata": {},
   "outputs": [
    {
     "data": {
      "text/plain": [
       "True"
      ]
     },
     "execution_count": 1,
     "metadata": {},
     "output_type": "execute_result"
    }
   ],
   "source": [
    "import kagglehub\n",
    "import torch\n",
    "torch.cuda.is_available()"
   ]
  },
  {
   "cell_type": "code",
   "execution_count": 2,
   "metadata": {},
   "outputs": [],
   "source": [
    "weights_dir = kagglehub.model_download(\n",
    "    \"google/gemma/pyTorch/2b-it\")"
   ]
  },
  {
   "cell_type": "code",
   "execution_count": 3,
   "metadata": {},
   "outputs": [],
   "source": [
    "import os\n",
    "tokenizer_path = os.path.join(weights_dir, \"tokenizer.model\")\n",
    "\n",
    "ckpt_path = os.path.join(weights_dir, \"gemma-2b-it.ckpt\")"
   ]
  },
  {
   "cell_type": "code",
   "execution_count": 4,
   "metadata": {},
   "outputs": [
    {
     "name": "stderr",
     "output_type": "stream",
     "text": [
      "fatal: destination path 'gemma_pytorch' already exists and is not an empty directory.\n"
     ]
    }
   ],
   "source": [
    "!git clone https://github.com/google/gemma_pytorch.git"
   ]
  },
  {
   "cell_type": "code",
   "execution_count": 5,
   "metadata": {},
   "outputs": [],
   "source": [
    "import sys\n",
    "\n",
    "sys.path.append(\"gemma_pytorch\")"
   ]
  },
  {
   "cell_type": "code",
   "execution_count": 6,
   "metadata": {},
   "outputs": [],
   "source": [
    "from gemma_pytorch.gemma.config import get_config_for_2b\n",
    "from gemma_pytorch.gemma.model import GemmaForCausalLM"
   ]
  },
  {
   "cell_type": "code",
   "execution_count": 7,
   "metadata": {},
   "outputs": [
    {
     "data": {
      "text/plain": [
       "GemmaConfig(vocab_size=256000, max_position_embeddings=8192, num_hidden_layers=18, num_attention_heads=8, num_key_value_heads=1, hidden_size=2048, intermediate_size=16384, head_dim=256, rms_norm_eps=1e-06, dtype='bfloat16', quant=False, tokenizer='tokenizer/tokenizer.model')"
      ]
     },
     "execution_count": 7,
     "metadata": {},
     "output_type": "execute_result"
    }
   ],
   "source": [
    "import torch\n",
    "\n",
    "model_config = get_config_for_2b()\n",
    "model_config"
   ]
  },
  {
   "cell_type": "code",
   "execution_count": 8,
   "metadata": {},
   "outputs": [],
   "source": [
    "model_config.tokenizer = tokenizer_path"
   ]
  },
  {
   "cell_type": "code",
   "execution_count": 9,
   "metadata": {},
   "outputs": [],
   "source": [
    "model_config.quant = \"quant\" in \"2b-it\""
   ]
  },
  {
   "cell_type": "code",
   "execution_count": 10,
   "metadata": {},
   "outputs": [],
   "source": [
    "torch.set_default_dtype(model_config.get_dtype())"
   ]
  },
  {
   "cell_type": "code",
   "execution_count": 11,
   "metadata": {},
   "outputs": [
    {
     "data": {
      "text/plain": [
       "device(type='cuda')"
      ]
     },
     "execution_count": 11,
     "metadata": {},
     "output_type": "execute_result"
    }
   ],
   "source": [
    "device = torch.device(\"cuda\")\n",
    "device"
   ]
  },
  {
   "cell_type": "code",
   "execution_count": 12,
   "metadata": {},
   "outputs": [],
   "source": [
    "model = GemmaForCausalLM(model_config)\n",
    "model.load_weights(ckpt_path)"
   ]
  },
  {
   "cell_type": "code",
   "execution_count": 13,
   "metadata": {},
   "outputs": [],
   "source": [
    "model = model.to(device)"
   ]
  },
  {
   "attachments": {},
   "cell_type": "markdown",
   "metadata": {},
   "source": [
    "# INFERENCE"
   ]
  },
  {
   "cell_type": "code",
   "execution_count": 14,
   "metadata": {},
   "outputs": [
    {
     "data": {
      "text/plain": [
       "'\\n\\n**Day 1:**\\n\\n* Chest press - 4 sets of 8-12 reps\\n* Dumbbell flyes - 4 sets of 8-12 reps\\n* Decline dumbbell flyes - 4 sets of 8-12 reps\\n\\n**Day 2:**\\n\\n* Barbell incline chest press - 4 sets of 8-12 reps\\n* Dumbbell incline chest press - 4 sets of 8-12 reps\\n* Cable'"
      ]
     },
     "execution_count": 14,
     "metadata": {},
     "output_type": "execute_result"
    }
   ],
   "source": [
    "model.generate(\"Give me a 5 day workout plan, 2 rest days. Targeting chest. Make each workout around 30 mins long\",\n",
    "device = device,\n",
    "output_len = 100)"
   ]
  },
  {
   "cell_type": "code",
   "execution_count": 15,
   "metadata": {},
   "outputs": [],
   "source": [
    "def inference(days:int=5, target:str=\"all around\", length:str = \"1 hour\", rep_range = \"8 to 10\"):\n",
    "    prompt = f\"Generate me a weekly workout plan. \"\n",
    "    if days:\n",
    "        prompt += f\"Use {days} workout days and {7-days} rest days. \"\n",
    "    if target:\n",
    "        prompt += f\"I want to target the {target}. \"\n",
    "    if length:\n",
    "        prompt += f\"Each workout should be {length} long. \"\n",
    "    if rep_range:\n",
    "        prompt += f\"Aim for the {rep_range} rep range.\"\n",
    "    return model.generate(\n",
    "        prompt,\n",
    "        device = device,\n",
    "        output_len = 1000,\n",
    "    )"
   ]
  },
  {
   "cell_type": "code",
   "execution_count": 16,
   "metadata": {},
   "outputs": [
    {
     "name": "stdout",
     "output_type": "stream",
     "text": [
      " \n",
      "\n",
      "**Monday:**\n",
      "\n",
      "* Squats: 5 sets of 10-12 reps\n",
      "* Lunges: 5 sets of 10-12 reps\n",
      "* Dumbbell bicep curls: 5 sets of 10-12 reps\n",
      "* Triceps dips: 5 sets of 10-12 reps\n",
      "\n",
      "**Tuesday:**\n",
      "\n",
      "* Push-ups: 5 sets of 10-12 reps\n",
      "* Plank: 5 sets of 30-60 seconds\n",
      "* Bodyweight overhead press: 5 sets of 10-12 reps\n",
      "* Lateral raises: 5 sets of 10-12 reps\n",
      "\n",
      "**Wednesday:**\n",
      "\n",
      "* Deadlifts: 5 sets of 10-12 reps\n",
      "* Dead lunges: 5 sets of 10-12 reps\n",
      "* Triceps pushdowns: 5 sets of 10-12 reps\n",
      "* High knees: 5 sets of 30-60 seconds\n",
      "\n",
      "**Thursday:**\n",
      "\n",
      "* Leg press: 5 sets of 10-12 reps\n",
      "* Kettlebell swings: 5 sets of 10-12 reps\n",
      "* Plank variations: 5 sets of 30-60 seconds\n",
      "* Chest flys: 5 sets of 10-12 reps\n",
      "\n",
      "**Friday:**\n",
      "\n",
      "* Rest\n",
      "\n",
      "**Saturday:**\n",
      "\n",
      "* Active rest: Go for a hike, swim, or bike ride.\n",
      "\n",
      "**Sunday:**\n",
      "\n",
      "* Active rest: Practice yoga, meditation, or massage.\n",
      "\n",
      "**Notes:**\n",
      "\n",
      "* You can adjust the weight for these exercises according to your fitness level. If you are new to a workout, start with lighter weights and work your way up gradually.\n",
      "* Be sure to warm up before each workout and cool down afterward.\n",
      "* Listen to your body and take rest days when needed.\n"
     ]
    }
   ],
   "source": [
    "print(inference())"
   ]
  },
  {
   "cell_type": "code",
   "execution_count": null,
   "metadata": {},
   "outputs": [],
   "source": []
  }
 ],
 "metadata": {
  "kernelspec": {
   "display_name": "gpu",
   "language": "python",
   "name": "python3"
  },
  "language_info": {
   "codemirror_mode": {
    "name": "ipython",
    "version": 3
   },
   "file_extension": ".py",
   "mimetype": "text/x-python",
   "name": "python",
   "nbconvert_exporter": "python",
   "pygments_lexer": "ipython3",
   "version": "3.10.9"
  },
  "orig_nbformat": 4
 },
 "nbformat": 4,
 "nbformat_minor": 2
}
